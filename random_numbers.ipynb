{
 "cells": [
  {
   "cell_type": "markdown",
   "id": "c5c2496f",
   "metadata": {},
   "source": [
    "## 6.1.4 Generate Random Latitudes and Longitudes"
   ]
  },
  {
   "cell_type": "code",
   "execution_count": 1,
   "id": "9a8d35eb",
   "metadata": {},
   "outputs": [],
   "source": [
    "# Import the random module.\n",
    "import random\n"
   ]
  },
  {
   "cell_type": "markdown",
   "id": "82ac7945",
   "metadata": {},
   "source": [
    "## The randinint() Function"
   ]
  },
  {
   "cell_type": "code",
   "execution_count": 2,
   "id": "f2bf7e11",
   "metadata": {},
   "outputs": [
    {
     "data": {
      "text/plain": [
       "-28"
      ]
     },
     "execution_count": 2,
     "metadata": {},
     "output_type": "execute_result"
    }
   ],
   "source": [
    "random.randint(-90, 90)\n"
   ]
  },
  {
   "cell_type": "markdown",
   "id": "b9f6670c",
   "metadata": {},
   "source": [
    "## The random() Function"
   ]
  },
  {
   "cell_type": "code",
   "execution_count": 3,
   "id": "5d8308e0",
   "metadata": {},
   "outputs": [
    {
     "data": {
      "text/plain": [
       "0.5927684283594117"
      ]
     },
     "execution_count": 3,
     "metadata": {},
     "output_type": "execute_result"
    }
   ],
   "source": [
    "random.random()\n"
   ]
  },
  {
   "cell_type": "code",
   "execution_count": 5,
   "id": "16ae87ed",
   "metadata": {},
   "outputs": [
    {
     "data": {
      "text/plain": [
       "[-57.063007699778055,\n",
       " -69.35267559557062,\n",
       " 27.952425513190388,\n",
       " -35.16968063624016,\n",
       " -0.3445820636434358,\n",
       " -39.2261489760141,\n",
       " 4.317104690389094,\n",
       " 77.08261710582082,\n",
       " 38.072483993449666,\n",
       " -13.132570269193756]"
      ]
     },
     "execution_count": 5,
     "metadata": {},
     "output_type": "execute_result"
    }
   ],
   "source": [
    "x = 1\n",
    "latitudes = []\n",
    "while x < 11:\n",
    "    random_lat = random.randint(-90, 89) + random.random()\n",
    "    latitudes.append(random_lat)\n",
    "    x += 1\n",
    "\n",
    "latitudes\n"
   ]
  },
  {
   "cell_type": "markdown",
   "id": "c34e547a",
   "metadata": {},
   "source": [
    "## The randrange() Function"
   ]
  },
  {
   "cell_type": "code",
   "execution_count": 6,
   "id": "8b6a1924",
   "metadata": {},
   "outputs": [
    {
     "data": {
      "text/plain": [
       "24"
      ]
     },
     "execution_count": 6,
     "metadata": {},
     "output_type": "execute_result"
    }
   ],
   "source": [
    "random.randrange(-90, 90, step=3)\n"
   ]
  },
  {
   "cell_type": "markdown",
   "id": "02184965",
   "metadata": {},
   "source": [
    "## The uniform() Function"
   ]
  },
  {
   "cell_type": "code",
   "execution_count": 7,
   "id": "93dc976b",
   "metadata": {},
   "outputs": [
    {
     "data": {
      "text/plain": [
       "50.89528640656124"
      ]
     },
     "execution_count": 7,
     "metadata": {},
     "output_type": "execute_result"
    }
   ],
   "source": [
    "random.uniform(-90, 90)\n"
   ]
  },
  {
   "cell_type": "markdown",
   "id": "6be350fe",
   "metadata": {},
   "source": [
    "## The NumPy and random Modules"
   ]
  },
  {
   "cell_type": "code",
   "execution_count": 20,
   "id": "42da8e50",
   "metadata": {},
   "outputs": [],
   "source": [
    "# Import the NumPy module.\n",
    "import numpy as np\n"
   ]
  },
  {
   "cell_type": "code",
   "execution_count": 21,
   "id": "a5a8f231",
   "metadata": {},
   "outputs": [
    {
     "data": {
      "text/plain": [
       "-48.34138670259727"
      ]
     },
     "execution_count": 21,
     "metadata": {},
     "output_type": "execute_result"
    }
   ],
   "source": [
    "np.random.uniform(-90.000, 90.000)\n"
   ]
  },
  {
   "cell_type": "code",
   "execution_count": 22,
   "id": "7238da11",
   "metadata": {},
   "outputs": [
    {
     "data": {
      "text/plain": [
       "array([-42.76808961,  -1.02715713, -73.97118746,  66.08332441,\n",
       "       -40.16657319,  41.36272425, -69.01705704, -46.67919456,\n",
       "       -45.08858795, -75.75312743, -86.62123673, -42.03035402,\n",
       "       -35.4526612 ,  27.58042404,  44.77391839, -86.88970019,\n",
       "       -25.29630796, -50.91568674, -80.25265401,  27.74840685,\n",
       "       -68.22335335, -27.2195442 ,  72.49054336, -10.3332702 ,\n",
       "        81.10367589, -30.95101466,  -8.79487326, -42.09643388,\n",
       "        86.98834768,  34.26909021,  34.03589427,  46.6002468 ,\n",
       "         8.37113031,  50.54862972, -61.77730426, -78.20091651,\n",
       "       -52.74600562, -63.87561275, -33.18199822, -89.14078446,\n",
       "        87.90539717,  -8.88266793,  -6.49890094,  61.10409872,\n",
       "        61.92019178,  67.50824497,  35.6346252 ,  44.85362604,\n",
       "       -24.18457578,  80.1174166 ])"
      ]
     },
     "execution_count": 22,
     "metadata": {},
     "output_type": "execute_result"
    }
   ],
   "source": [
    "np.random.uniform(-90.000, 90.000, size=50)\n"
   ]
  },
  {
   "cell_type": "code",
   "execution_count": 13,
   "id": "d53531a2",
   "metadata": {},
   "outputs": [],
   "source": [
    "# Import timeit.\n",
    "import timeit\n"
   ]
  },
  {
   "cell_type": "code",
   "execution_count": 16,
   "id": "ecaafc91",
   "metadata": {},
   "outputs": [
    {
     "name": "stdout",
     "output_type": "stream",
     "text": [
      "2.77 µs ± 68.3 ns per loop (mean ± std. dev. of 7 runs, 100000 loops each)\n"
     ]
    }
   ],
   "source": [
    "%timeit np.random.uniform(-90.000, 90.000, size=50)\n"
   ]
  },
  {
   "cell_type": "code",
   "execution_count": 17,
   "id": "39d3c3d6",
   "metadata": {},
   "outputs": [
    {
     "name": "stdout",
     "output_type": "stream",
     "text": [
      "1.63 ms ± 83.7 µs per loop (mean ± std. dev. of 7 runs, 1000 loops each)\n"
     ]
    }
   ],
   "source": [
    "def latitudes(size):\n",
    "    latitudes = []\n",
    "    x = 0\n",
    "    while x < (size):\n",
    "        random_lat = random.randint(-90, 90) + random.random()\n",
    "        latitudes.append(random_lat)\n",
    "        x += 1\n",
    "    return latitudes\n",
    "# Call the function with 1500.\n",
    "%timeit latitudes(1500)\n"
   ]
  },
  {
   "cell_type": "markdown",
   "id": "f3065977",
   "metadata": {},
   "source": [
    "## Skill Drill\n",
    "\n",
    "Refactor the code for the while loop with the %timeit magic command and write a for loop that will generate the 1,500 latitudes."
   ]
  },
  {
   "cell_type": "code",
   "execution_count": 23,
   "id": "e4a14f19",
   "metadata": {},
   "outputs": [
    {
     "name": "stdout",
     "output_type": "stream",
     "text": [
      "11.9 µs ± 197 ns per loop (mean ± std. dev. of 7 runs, 100000 loops each)\n"
     ]
    }
   ],
   "source": [
    "def latitudes(sz):\n",
    "    return np.random.uniform(-90.000, 90.000, size=sz)\n",
    "# Call the function with 1500.\n",
    "\n",
    "%timeit latitudes(1500)\n"
   ]
  },
  {
   "cell_type": "code",
   "execution_count": 24,
   "id": "f53392b5",
   "metadata": {},
   "outputs": [],
   "source": [
    "# See API_practice.py for more testing"
   ]
  },
  {
   "cell_type": "code",
   "execution_count": null,
   "id": "da04de05",
   "metadata": {},
   "outputs": [],
   "source": []
  }
 ],
 "metadata": {
  "kernelspec": {
   "display_name": "PythonData",
   "language": "python",
   "name": "pythondata"
  },
  "language_info": {
   "codemirror_mode": {
    "name": "ipython",
    "version": 3
   },
   "file_extension": ".py",
   "mimetype": "text/x-python",
   "name": "python",
   "nbconvert_exporter": "python",
   "pygments_lexer": "ipython3",
   "version": "3.7.13"
  }
 },
 "nbformat": 4,
 "nbformat_minor": 5
}
