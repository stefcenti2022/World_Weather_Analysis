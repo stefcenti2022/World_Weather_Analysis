{
 "cells": [
  {
   "cell_type": "markdown",
   "id": "c5c2496f",
   "metadata": {},
   "source": [
    "## 6.1.4 Generate Random Latitudes and Longitudes"
   ]
  },
  {
   "cell_type": "code",
   "execution_count": 39,
   "id": "9a8d35eb",
   "metadata": {},
   "outputs": [],
   "source": [
    "# Import the random module.\n",
    "import random\n"
   ]
  },
  {
   "cell_type": "markdown",
   "id": "82ac7945",
   "metadata": {},
   "source": [
    "## The randinint() Function"
   ]
  },
  {
   "cell_type": "code",
   "execution_count": 40,
   "id": "f2bf7e11",
   "metadata": {},
   "outputs": [
    {
     "data": {
      "text/plain": [
       "-70"
      ]
     },
     "execution_count": 40,
     "metadata": {},
     "output_type": "execute_result"
    }
   ],
   "source": [
    "random.randint(-90, 90)\n"
   ]
  },
  {
   "cell_type": "markdown",
   "id": "b9f6670c",
   "metadata": {},
   "source": [
    "## The random() Function"
   ]
  },
  {
   "cell_type": "code",
   "execution_count": 41,
   "id": "5d8308e0",
   "metadata": {},
   "outputs": [
    {
     "data": {
      "text/plain": [
       "0.05018599217423958"
      ]
     },
     "execution_count": 41,
     "metadata": {},
     "output_type": "execute_result"
    }
   ],
   "source": [
    "random.random()\n"
   ]
  },
  {
   "cell_type": "code",
   "execution_count": 42,
   "id": "16ae87ed",
   "metadata": {},
   "outputs": [
    {
     "data": {
      "text/plain": [
       "[10.481441590223183,\n",
       " -26.23376684615004,\n",
       " 22.537519089187718,\n",
       " -12.225643753607821,\n",
       " -84.06646765503828,\n",
       " -39.112547844570294,\n",
       " -19.005181590503557,\n",
       " -44.32511091470731,\n",
       " -7.589315613983497,\n",
       " -72.66536277650533]"
      ]
     },
     "execution_count": 42,
     "metadata": {},
     "output_type": "execute_result"
    }
   ],
   "source": [
    "x = 1\n",
    "latitudes = []\n",
    "while x < 11:\n",
    "    random_lat = random.randint(-90, 89) + random.random()\n",
    "    latitudes.append(random_lat)\n",
    "    x += 1\n",
    "\n",
    "latitudes\n"
   ]
  },
  {
   "cell_type": "markdown",
   "id": "c34e547a",
   "metadata": {},
   "source": [
    "## The randrange() Function"
   ]
  },
  {
   "cell_type": "code",
   "execution_count": 43,
   "id": "8b6a1924",
   "metadata": {},
   "outputs": [
    {
     "data": {
      "text/plain": [
       "45"
      ]
     },
     "execution_count": 43,
     "metadata": {},
     "output_type": "execute_result"
    }
   ],
   "source": [
    "random.randrange(-90, 90, step=3)\n"
   ]
  },
  {
   "cell_type": "markdown",
   "id": "02184965",
   "metadata": {},
   "source": [
    "## The uniform() Function"
   ]
  },
  {
   "cell_type": "code",
   "execution_count": 44,
   "id": "93dc976b",
   "metadata": {},
   "outputs": [
    {
     "data": {
      "text/plain": [
       "-40.12782315784392"
      ]
     },
     "execution_count": 44,
     "metadata": {},
     "output_type": "execute_result"
    }
   ],
   "source": [
    "random.uniform(-90, 90)\n"
   ]
  },
  {
   "cell_type": "markdown",
   "id": "6be350fe",
   "metadata": {},
   "source": [
    "## The NumPy and random Modules"
   ]
  },
  {
   "cell_type": "code",
   "execution_count": 45,
   "id": "42da8e50",
   "metadata": {},
   "outputs": [],
   "source": [
    "# Import the NumPy module.\n",
    "import numpy as np\n"
   ]
  },
  {
   "cell_type": "code",
   "execution_count": 46,
   "id": "a5a8f231",
   "metadata": {},
   "outputs": [
    {
     "data": {
      "text/plain": [
       "-14.279531233674945"
      ]
     },
     "execution_count": 46,
     "metadata": {},
     "output_type": "execute_result"
    }
   ],
   "source": [
    "np.random.uniform(-90.000, 90.000)\n"
   ]
  },
  {
   "cell_type": "code",
   "execution_count": 47,
   "id": "7238da11",
   "metadata": {},
   "outputs": [
    {
     "data": {
      "text/plain": [
       "array([-17.03611041,  67.87096695,  28.46067744,   5.33290971,\n",
       "        87.4858902 ,  76.32450713,  78.38177215, -21.43179695,\n",
       "       -33.65735229,  73.19837664, -14.91844331, -33.79996807,\n",
       "       -72.31475628,  67.6195774 , -19.52257908, -50.06309472,\n",
       "        25.09554681, -47.49262768, -70.14815429, -66.6854225 ,\n",
       "        17.88224498, -81.71714919, -66.38578556,  39.48940476,\n",
       "       -69.4353871 ,  12.87242597,  84.04276699,  63.29342065,\n",
       "       -65.27560543, -83.93096709,  -3.34692202, -28.81786139,\n",
       "        87.67437227,  -9.61879197, -12.15646202, -80.6588145 ,\n",
       "        21.00028953,  -2.66725883,  60.57438085,  45.93545466,\n",
       "       -89.75268136, -12.92042044, -75.90670589, -25.45956965,\n",
       "        69.14709051, -16.76309767, -32.85495183, -54.03397963,\n",
       "       -27.67913201,  16.85701172])"
      ]
     },
     "execution_count": 47,
     "metadata": {},
     "output_type": "execute_result"
    }
   ],
   "source": [
    "np.random.uniform(-90.000, 90.000, size=50)\n"
   ]
  },
  {
   "cell_type": "code",
   "execution_count": 48,
   "id": "d53531a2",
   "metadata": {},
   "outputs": [],
   "source": [
    "# Import timeit.\n",
    "import timeit\n"
   ]
  },
  {
   "cell_type": "code",
   "execution_count": 49,
   "id": "ecaafc91",
   "metadata": {},
   "outputs": [
    {
     "name": "stdout",
     "output_type": "stream",
     "text": [
      "2.72 µs ± 41.1 ns per loop (mean ± std. dev. of 7 runs, 100000 loops each)\n"
     ]
    }
   ],
   "source": [
    "%timeit np.random.uniform(-90.000, 90.000, size=50)\n"
   ]
  },
  {
   "cell_type": "code",
   "execution_count": 50,
   "id": "39d3c3d6",
   "metadata": {},
   "outputs": [
    {
     "name": "stdout",
     "output_type": "stream",
     "text": [
      "1.62 ms ± 61.9 µs per loop (mean ± std. dev. of 7 runs, 1000 loops each)\n"
     ]
    }
   ],
   "source": [
    "def latitudes(size):\n",
    "    latitudes = []\n",
    "    x = 0\n",
    "    while x < (size):\n",
    "        random_lat = random.randint(-90, 90) + random.random()\n",
    "        latitudes.append(random_lat)\n",
    "        x += 1\n",
    "    return latitudes\n",
    "# Call the function with 1500.\n",
    "%timeit latitudes(1500)\n"
   ]
  },
  {
   "cell_type": "markdown",
   "id": "f3065977",
   "metadata": {},
   "source": [
    "## Skill Drill\n",
    "\n",
    "Refactor the code for the while loop with the %timeit magic command and write a for loop that will generate the 1,500 latitudes."
   ]
  },
  {
   "cell_type": "code",
   "execution_count": null,
   "id": "e4a14f19",
   "metadata": {},
   "outputs": [],
   "source": [
    "def latitudes(sz):\n",
    "    return np.random.uniform(-90.000, 90.000, size=sz)\n",
    "# Call the function with 1500.\n",
    "\n",
    "%timeit latitudes(1500)\n"
   ]
  },
  {
   "cell_type": "code",
   "execution_count": null,
   "id": "f53392b5",
   "metadata": {},
   "outputs": [],
   "source": [
    "# See API_practice.py for more testing"
   ]
  },
  {
   "cell_type": "code",
   "execution_count": null,
   "id": "da04de05",
   "metadata": {},
   "outputs": [],
   "source": []
  }
 ],
 "metadata": {
  "kernelspec": {
   "display_name": "PythonData",
   "language": "python",
   "name": "pythondata"
  },
  "language_info": {
   "codemirror_mode": {
    "name": "ipython",
    "version": 3
   },
   "file_extension": ".py",
   "mimetype": "text/x-python",
   "name": "python",
   "nbconvert_exporter": "python",
   "pygments_lexer": "ipython3",
   "version": "3.7.13"
  }
 },
 "nbformat": 4,
 "nbformat_minor": 5
}
