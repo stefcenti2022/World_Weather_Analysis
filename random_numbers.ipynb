{
 "cells": [
  {
   "cell_type": "markdown",
   "id": "05d5fd51",
   "metadata": {},
   "source": [
    "## 6.1.4 Generate Random Latitudes and Longitudes"
   ]
  },
  {
   "cell_type": "code",
   "execution_count": 1,
   "id": "ae3a3bf7",
   "metadata": {},
   "outputs": [],
   "source": [
    "# Import the random module.\n",
    "import random\n"
   ]
  },
  {
   "cell_type": "code",
   "execution_count": 2,
   "id": "865ef967",
   "metadata": {},
   "outputs": [
    {
     "data": {
      "text/plain": [
       "-28"
      ]
     },
     "execution_count": 2,
     "metadata": {},
     "output_type": "execute_result"
    }
   ],
   "source": [
    "random.randint(-90, 90)\n"
   ]
  },
  {
   "cell_type": "code",
   "execution_count": 3,
   "id": "f530751d",
   "metadata": {},
   "outputs": [
    {
     "data": {
      "text/plain": [
       "0.5927684283594117"
      ]
     },
     "execution_count": 3,
     "metadata": {},
     "output_type": "execute_result"
    }
   ],
   "source": [
    "random.random()\n"
   ]
  },
  {
   "cell_type": "code",
   "execution_count": 5,
   "id": "9b2bb274",
   "metadata": {},
   "outputs": [
    {
     "data": {
      "text/plain": [
       "[-57.063007699778055,\n",
       " -69.35267559557062,\n",
       " 27.952425513190388,\n",
       " -35.16968063624016,\n",
       " -0.3445820636434358,\n",
       " -39.2261489760141,\n",
       " 4.317104690389094,\n",
       " 77.08261710582082,\n",
       " 38.072483993449666,\n",
       " -13.132570269193756]"
      ]
     },
     "execution_count": 5,
     "metadata": {},
     "output_type": "execute_result"
    }
   ],
   "source": [
    "x = 1\n",
    "latitudes = []\n",
    "while x < 11:\n",
    "    random_lat = random.randint(-90, 89) + random.random()\n",
    "    latitudes.append(random_lat)\n",
    "    x += 1\n",
    "\n",
    "latitudes\n"
   ]
  },
  {
   "cell_type": "code",
   "execution_count": 6,
   "id": "6a866cbc",
   "metadata": {},
   "outputs": [
    {
     "data": {
      "text/plain": [
       "24"
      ]
     },
     "execution_count": 6,
     "metadata": {},
     "output_type": "execute_result"
    }
   ],
   "source": [
    "random.randrange(-90, 90, step=3)\n"
   ]
  },
  {
   "cell_type": "code",
   "execution_count": 7,
   "id": "dc9afb49",
   "metadata": {},
   "outputs": [
    {
     "data": {
      "text/plain": [
       "50.89528640656124"
      ]
     },
     "execution_count": 7,
     "metadata": {},
     "output_type": "execute_result"
    }
   ],
   "source": [
    "random.uniform(-90, 90)\n"
   ]
  },
  {
   "cell_type": "code",
   "execution_count": 8,
   "id": "7dfa9a7a",
   "metadata": {},
   "outputs": [],
   "source": [
    "# Import the NumPy module.\n",
    "import numpy as np\n"
   ]
  },
  {
   "cell_type": "code",
   "execution_count": 9,
   "id": "ab2fa363",
   "metadata": {},
   "outputs": [
    {
     "data": {
      "text/plain": [
       "-56.06073472390475"
      ]
     },
     "execution_count": 9,
     "metadata": {},
     "output_type": "execute_result"
    }
   ],
   "source": [
    "np.random.uniform(-90.000, 90.000)\n"
   ]
  },
  {
   "cell_type": "code",
   "execution_count": 10,
   "id": "6590b494",
   "metadata": {},
   "outputs": [
    {
     "data": {
      "text/plain": [
       "array([-57.2557293 , -17.99830019,  -0.84083741,  27.36109989,\n",
       "       -36.10801887,  -0.98875688,  56.59007267,  -0.32535352,\n",
       "        53.61223632,  31.37572827,   7.09553306, -66.74135966,\n",
       "       -40.65139797,  79.03108197, -57.67547481, -14.59807443,\n",
       "       -42.72001253,  20.37054362,  70.74048548,  26.94583063,\n",
       "        34.61468765, -56.39358609, -81.9313872 , -49.62423921,\n",
       "        79.57509369,  83.09693686,  14.81647015,   2.78585687,\n",
       "         8.68340016,   9.72992844, -65.28507689, -80.21309144,\n",
       "        -5.66244789,  88.05760963,  69.9268983 ,  21.11724846,\n",
       "        63.10076326,  76.83167622,  22.57331683, -57.46691507,\n",
       "       -29.55894767, -75.92062756, -56.18789868, -61.15959258,\n",
       "       -63.88732751, -45.1377474 , -23.04735134, -55.767333  ,\n",
       "       -15.78737363, -35.48000726])"
      ]
     },
     "execution_count": 10,
     "metadata": {},
     "output_type": "execute_result"
    }
   ],
   "source": [
    "np.random.uniform(-90.000, 90.000, size=50)\n"
   ]
  },
  {
   "cell_type": "code",
   "execution_count": 13,
   "id": "ca635e53",
   "metadata": {},
   "outputs": [],
   "source": [
    "# Import timeit.\n",
    "import timeit\n"
   ]
  },
  {
   "cell_type": "code",
   "execution_count": 16,
   "id": "a8d54b5e",
   "metadata": {},
   "outputs": [
    {
     "name": "stdout",
     "output_type": "stream",
     "text": [
      "2.77 µs ± 68.3 ns per loop (mean ± std. dev. of 7 runs, 100000 loops each)\n"
     ]
    }
   ],
   "source": [
    "%timeit np.random.uniform(-90.000, 90.000, size=50)\n"
   ]
  },
  {
   "cell_type": "code",
   "execution_count": 17,
   "id": "dddb4e98",
   "metadata": {},
   "outputs": [
    {
     "name": "stdout",
     "output_type": "stream",
     "text": [
      "1.63 ms ± 83.7 µs per loop (mean ± std. dev. of 7 runs, 1000 loops each)\n"
     ]
    }
   ],
   "source": [
    "def latitudes(size):\n",
    "    latitudes = []\n",
    "    x = 0\n",
    "    while x < (size):\n",
    "        random_lat = random.randint(-90, 90) + random.random()\n",
    "        latitudes.append(random_lat)\n",
    "        x += 1\n",
    "    return latitudes\n",
    "# Call the function with 1500.\n",
    "%timeit latitudes(1500)\n"
   ]
  },
  {
   "cell_type": "code",
   "execution_count": 19,
   "id": "1281b60d",
   "metadata": {},
   "outputs": [
    {
     "name": "stdout",
     "output_type": "stream",
     "text": [
      "11.5 µs ± 62 ns per loop (mean ± std. dev. of 7 runs, 100000 loops each)\n"
     ]
    }
   ],
   "source": [
    "def latitudes(sz):\n",
    "    return np.random.uniform(-90.000, 90.000, size=sz)\n",
    "# Call the function with 1500.\n",
    "\n",
    "%timeit latitudes(1500)\n"
   ]
  },
  {
   "cell_type": "code",
   "execution_count": null,
   "id": "99085452",
   "metadata": {},
   "outputs": [],
   "source": []
  }
 ],
 "metadata": {
  "kernelspec": {
   "display_name": "PythonData",
   "language": "python",
   "name": "pythondata"
  },
  "language_info": {
   "codemirror_mode": {
    "name": "ipython",
    "version": 3
   },
   "file_extension": ".py",
   "mimetype": "text/x-python",
   "name": "python",
   "nbconvert_exporter": "python",
   "pygments_lexer": "ipython3",
   "version": "3.7.13"
  }
 },
 "nbformat": 4,
 "nbformat_minor": 5
}
