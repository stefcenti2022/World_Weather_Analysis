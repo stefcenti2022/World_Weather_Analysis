{
 "cells": [
  {
   "cell_type": "markdown",
   "id": "bf133e78",
   "metadata": {},
   "source": [
    "## 6.1.4 Generate Random Latitudes and Longitudes\n",
    "\n",
    "### See random_numbers.ipynb for the following tests: \n",
    "    \n",
    "    - The use of the random module functions from Mod 6.1.4\n",
    "    - The use of the NumPy module with the random module to generate an array 1500 lat and lon coordinates into a list w/o a for loop.\n",
    "    - The use of the %timeit magic command on a for loop vs. the random.uniform() on the list of 1500 datapoints.\n",
    "    \n",
    "### Create Latitude and Longitude Combinations\n",
    "Testing for Module 6.1.4 Continued in this notebook (API_practice.ipynb) after steps to add code to WeatherPy notebook.\n",
    "    "
   ]
  },
  {
   "cell_type": "code",
   "execution_count": 102,
   "id": "8daf4a1a",
   "metadata": {},
   "outputs": [],
   "source": [
    "# Create a practice set of random latitude and longitude combinations.\n",
    "lats = [25.12903645, 25.92017388, 26.62509167, -59.98969384, 37.30571269]\n",
    "lngs = [-67.59741259, 11.09532135, 74.84233102, -76.89176677, -61.13376282]\n",
    "lat_lngs = zip(lats, lngs)\n"
   ]
  },
  {
   "cell_type": "code",
   "execution_count": 103,
   "id": "2aa44bb8",
   "metadata": {},
   "outputs": [],
   "source": [
    "# Add the latitudes and longitudes to a list.\n",
    "coordinates = list(lat_lngs)\n"
   ]
  },
  {
   "cell_type": "code",
   "execution_count": 104,
   "id": "aa49fc25",
   "metadata": {},
   "outputs": [
    {
     "name": "stdout",
     "output_type": "stream",
     "text": [
      "25.12903645 -67.59741259\n",
      "25.92017388 11.09532135\n",
      "26.62509167 74.84233102\n",
      "-59.98969384 -76.89176677\n",
      "37.30571269 -61.13376282\n"
     ]
    }
   ],
   "source": [
    "# Use the print() function to display the latitude and longitude combinations.\n",
    "for coordinate in coordinates:\n",
    "    print(coordinate[0], coordinate[1])\n",
    "    "
   ]
  },
  {
   "cell_type": "markdown",
   "id": "47fa3c2a",
   "metadata": {},
   "source": [
    "## 6.1.5 Generate Random World Cities\n"
   ]
  },
  {
   "cell_type": "code",
   "execution_count": 105,
   "id": "6e383790",
   "metadata": {},
   "outputs": [],
   "source": [
    "# Use the citipy module to determine city based on latitude and longitude.\n",
    "from citipy import citipy\n"
   ]
  },
  {
   "cell_type": "code",
   "execution_count": 106,
   "id": "a3756a53",
   "metadata": {},
   "outputs": [
    {
     "name": "stdout",
     "output_type": "stream",
     "text": [
      "cockburn town tc\n",
      "gat ly\n",
      "parvatsar in\n",
      "punta arenas cl\n",
      "saint george bm\n"
     ]
    }
   ],
   "source": [
    "# Use the print() function to display the latitude and longitude combinations.\n",
    "for coordinate in coordinates:\n",
    "    print(citipy.nearest_city(coordinate[0], coordinate[1]).city_name,\n",
    "          citipy.nearest_city(coordinate[0], coordinate[1]).country_code)\n",
    "    "
   ]
  },
  {
   "cell_type": "code",
   "execution_count": 107,
   "id": "581d04a5",
   "metadata": {},
   "outputs": [],
   "source": [
    "# See WeatherPy file for the rest of Module 6.1.5"
   ]
  },
  {
   "cell_type": "markdown",
   "id": "e100442d",
   "metadata": {},
   "source": [
    "## 6.2.1 Understanding APIs\n",
    "This app will be using the OpenWeatherMap api.\n",
    "\n",
    "### The JavaScript Object Notation Format for API Data\n",
    "Data retrieved from the OpenWeatherApp api is in JSON format.\n",
    "\n",
    "## 6.2.1 Get Started with OpenWeatherMap API\n",
    "\n",
    "\n",
    "### Register for an API Key\n",
    "After registering for the api key from https://openweathermap.org/api save the key to a python file named config.py and make sure config.py is in the .gitignore file to prevent it from being uploaded to the cloud.\n",
    "\n",
    "### OpenWeatherMap Documentation for Current Weather API\n",
    "https://openweathermap.org/current\n",
    "\n",
    "### The Python Requests Library\n"
   ]
  },
  {
   "cell_type": "code",
   "execution_count": 108,
   "id": "9f5f4a35",
   "metadata": {},
   "outputs": [
    {
     "data": {
      "text/plain": [
       "'2.27.1'"
      ]
     },
     "execution_count": 108,
     "metadata": {},
     "output_type": "execute_result"
    }
   ],
   "source": [
    "# This was done in the python interpreter in the module\n",
    "import requests\n",
    "requests.__version__\n"
   ]
  },
  {
   "cell_type": "markdown",
   "id": "967713da",
   "metadata": {},
   "source": [
    "## 6.2.3 Make an API Call"
   ]
  },
  {
   "cell_type": "code",
   "execution_count": 109,
   "id": "b38b3822",
   "metadata": {},
   "outputs": [],
   "source": [
    "# Import the requests library.\n",
    "import requests\n",
    "\n",
    "# Import the API key.\n",
    "from config import weather_api_key\n"
   ]
  },
  {
   "cell_type": "code",
   "execution_count": 110,
   "id": "7fc8cc85",
   "metadata": {},
   "outputs": [],
   "source": [
    "# Starting URL for Weather Map API Call.\n",
    "url = \"http://api.openweathermap.org/data/2.5/weather?units=Imperial&APPID=\" + weather_api_key\n",
    "city = \"Boston\"\n"
   ]
  },
  {
   "cell_type": "code",
   "execution_count": 111,
   "id": "f5549e3e",
   "metadata": {},
   "outputs": [],
   "source": [
    "city_url = url + weather_api_key + \"&q=\" + city\n"
   ]
  },
  {
   "cell_type": "markdown",
   "id": "aa2c5f03",
   "metadata": {},
   "source": [
    "## 6.2.4 Make a Request for Data to an API\n",
    "\n",
    "### Retrieve a Response Using the get() Method"
   ]
  },
  {
   "cell_type": "code",
   "execution_count": 112,
   "id": "757dfbd4",
   "metadata": {},
   "outputs": [
    {
     "data": {
      "text/plain": [
       "<Response [200]>"
      ]
     },
     "execution_count": 112,
     "metadata": {},
     "output_type": "execute_result"
    }
   ],
   "source": [
    "# Make a 'Get' request for the city weather.\n",
    "city_url = url + \"&q=\" + \"Boston\"\n",
    "city_weather = requests.get(city_url)\n",
    "city_weather\n"
   ]
  },
  {
   "cell_type": "markdown",
   "id": "f8168cc6",
   "metadata": {},
   "source": [
    "### Get Data from a Response"
   ]
  },
  {
   "cell_type": "code",
   "execution_count": 113,
   "id": "4fe7a268",
   "metadata": {},
   "outputs": [
    {
     "data": {
      "text/plain": [
       "<Response [404]>"
      ]
     },
     "execution_count": 113,
     "metadata": {},
     "output_type": "execute_result"
    }
   ],
   "source": [
    "# Create an endpoint URL for a city.\n",
    "city_url = url + \"&q=\" + \"Bston\"\n",
    "city_weather = requests.get(city_url)\n",
    "city_weather\n"
   ]
  },
  {
   "cell_type": "code",
   "execution_count": 114,
   "id": "5dee1a01",
   "metadata": {},
   "outputs": [
    {
     "data": {
      "text/plain": [
       "<Response [200]>"
      ]
     },
     "execution_count": 114,
     "metadata": {},
     "output_type": "execute_result"
    }
   ],
   "source": [
    "# Create an endpoint URL for a city.\n",
    "city_url = url + \"&q=\" + \"Boston\"\n",
    "city_weather = requests.get(city_url)\n",
    "city_weather"
   ]
  },
  {
   "cell_type": "code",
   "execution_count": 115,
   "id": "cdcb2a96",
   "metadata": {},
   "outputs": [
    {
     "data": {
      "text/plain": [
       "'{\"coord\":{\"lon\":-71.0598,\"lat\":42.3584},\"weather\":[{\"id\":501,\"main\":\"Rain\",\"description\":\"moderate rain\",\"icon\":\"10n\"},{\"id\":701,\"main\":\"Mist\",\"description\":\"mist\",\"icon\":\"50n\"}],\"base\":\"stations\",\"main\":{\"temp\":64.2,\"feels_like\":64.8,\"temp_min\":61.32,\"temp_max\":66.52,\"pressure\":1022,\"humidity\":95},\"visibility\":9656,\"wind\":{\"speed\":8.05,\"deg\":40},\"rain\":{\"1h\":2.73},\"clouds\":{\"all\":100},\"dt\":1662425701,\"sys\":{\"type\":2,\"id\":2013408,\"country\":\"US\",\"sunrise\":1662372826,\"sunset\":1662419551},\"timezone\":-14400,\"id\":4930956,\"name\":\"Boston\",\"cod\":200}'"
      ]
     },
     "execution_count": 115,
     "metadata": {},
     "output_type": "execute_result"
    }
   ],
   "source": [
    "# Get the text of the 'Get' request.\n",
    "city_weather.text\n"
   ]
  },
  {
   "cell_type": "code",
   "execution_count": 116,
   "id": "0f1b5780",
   "metadata": {},
   "outputs": [
    {
     "data": {
      "text/plain": [
       "{'coord': {'lon': -71.0598, 'lat': 42.3584},\n",
       " 'weather': [{'id': 501,\n",
       "   'main': 'Rain',\n",
       "   'description': 'moderate rain',\n",
       "   'icon': '10n'},\n",
       "  {'id': 701, 'main': 'Mist', 'description': 'mist', 'icon': '50n'}],\n",
       " 'base': 'stations',\n",
       " 'main': {'temp': 64.2,\n",
       "  'feels_like': 64.8,\n",
       "  'temp_min': 61.32,\n",
       "  'temp_max': 66.52,\n",
       "  'pressure': 1022,\n",
       "  'humidity': 95},\n",
       " 'visibility': 9656,\n",
       " 'wind': {'speed': 8.05, 'deg': 40},\n",
       " 'rain': {'1h': 2.73},\n",
       " 'clouds': {'all': 100},\n",
       " 'dt': 1662425701,\n",
       " 'sys': {'type': 2,\n",
       "  'id': 2013408,\n",
       "  'country': 'US',\n",
       "  'sunrise': 1662372826,\n",
       "  'sunset': 1662419551},\n",
       " 'timezone': -14400,\n",
       " 'id': 4930956,\n",
       " 'name': 'Boston',\n",
       " 'cod': 200}"
      ]
     },
     "execution_count": 116,
     "metadata": {},
     "output_type": "execute_result"
    }
   ],
   "source": [
    "# Get the JSON text of the 'Get' request.\n",
    "city_weather.json()\n"
   ]
  },
  {
   "cell_type": "markdown",
   "id": "fdaa7111",
   "metadata": {},
   "source": [
    "### Handle Request Errors"
   ]
  },
  {
   "cell_type": "code",
   "execution_count": 117,
   "id": "f28e6d2d",
   "metadata": {},
   "outputs": [
    {
     "name": "stdout",
     "output_type": "stream",
     "text": [
      "City Weather found.\n"
     ]
    }
   ],
   "source": [
    "# Create an endpoint URL for a city.\n",
    "city_url = url + \"&q=\" + \"Boston\"\n",
    "city_weather = requests.get(city_url)\n",
    "if city_weather.status_code == 200:\n",
    "    print(f\"City Weather found.\")\n",
    "else:\n",
    "    print(f\"City weather not found.\")\n",
    "    "
   ]
  },
  {
   "cell_type": "code",
   "execution_count": 118,
   "id": "e09a965e",
   "metadata": {},
   "outputs": [
    {
     "name": "stdout",
     "output_type": "stream",
     "text": [
      "City weather not found.\n"
     ]
    }
   ],
   "source": [
    "# Create an endpoint URL for a city.\n",
    "city_url = url + \"&q=\" + \"Bston\"\n",
    "city_weather = requests.get(city_url)\n",
    "if city_weather.status_code == 200:\n",
    "    print(f\"City Weather found.\")\n",
    "else:\n",
    "    print(f\"City weather not found.\")\n",
    "    "
   ]
  },
  {
   "cell_type": "code",
   "execution_count": 119,
   "id": "0028ae55",
   "metadata": {},
   "outputs": [],
   "source": [
    "# *** TESTING ***\n",
    "# Comment out and re-run cell to prevent api key from being uploaded\n",
    "# print(city_url)\n"
   ]
  },
  {
   "cell_type": "markdown",
   "id": "12025c3e",
   "metadata": {},
   "source": [
    "## 6.2.5 Parse a Response from an API\n",
    "### Create a DataFrame using Cities in lats_lngs List"
   ]
  },
  {
   "cell_type": "code",
   "execution_count": 120,
   "id": "448358bc",
   "metadata": {},
   "outputs": [
    {
     "data": {
      "text/plain": [
       "{'coord': {'lon': -71.0598, 'lat': 42.3584},\n",
       " 'weather': [{'id': 501,\n",
       "   'main': 'Rain',\n",
       "   'description': 'moderate rain',\n",
       "   'icon': '10n'},\n",
       "  {'id': 701, 'main': 'Mist', 'description': 'mist', 'icon': '50n'}],\n",
       " 'base': 'stations',\n",
       " 'main': {'temp': 64.2,\n",
       "  'feels_like': 64.8,\n",
       "  'temp_min': 61.32,\n",
       "  'temp_max': 66.52,\n",
       "  'pressure': 1022,\n",
       "  'humidity': 95},\n",
       " 'visibility': 9656,\n",
       " 'wind': {'speed': 8.05, 'deg': 40},\n",
       " 'rain': {'1h': 2.73},\n",
       " 'clouds': {'all': 100},\n",
       " 'dt': 1662425701,\n",
       " 'sys': {'type': 2,\n",
       "  'id': 2013408,\n",
       "  'country': 'US',\n",
       "  'sunrise': 1662372826,\n",
       "  'sunset': 1662419551},\n",
       " 'timezone': -14400,\n",
       " 'id': 4930956,\n",
       " 'name': 'Boston',\n",
       " 'cod': 200}"
      ]
     },
     "execution_count": 120,
     "metadata": {},
     "output_type": "execute_result"
    }
   ],
   "source": [
    "# Create an endpoint URL for a city.\n",
    "city_url = url + \"&q=\" + \"Boston\"\n",
    "city_weather = requests.get(city_url)\n",
    "city_weather.json()"
   ]
  },
  {
   "cell_type": "code",
   "execution_count": 121,
   "id": "010b6b17",
   "metadata": {},
   "outputs": [],
   "source": [
    "# Get the JSON data.\n",
    "boston_data = city_weather.json()\n"
   ]
  },
  {
   "cell_type": "code",
   "execution_count": 122,
   "id": "2a550ad1",
   "metadata": {},
   "outputs": [
    {
     "data": {
      "text/plain": [
       "{'type': 2,\n",
       " 'id': 2013408,\n",
       " 'country': 'US',\n",
       " 'sunrise': 1662372826,\n",
       " 'sunset': 1662419551}"
      ]
     },
     "execution_count": 122,
     "metadata": {},
     "output_type": "execute_result"
    }
   ],
   "source": [
    "boston_data[\"sys\"]\n"
   ]
  },
  {
   "cell_type": "code",
   "execution_count": 123,
   "id": "f936491a",
   "metadata": {},
   "outputs": [
    {
     "data": {
      "text/plain": [
       "'US'"
      ]
     },
     "execution_count": 123,
     "metadata": {},
     "output_type": "execute_result"
    }
   ],
   "source": [
    "# Retrieve the Country of Boston\n",
    "boston_data[\"sys\"][\"country\"]\n"
   ]
  },
  {
   "cell_type": "code",
   "execution_count": 124,
   "id": "c7213754",
   "metadata": {},
   "outputs": [
    {
     "data": {
      "text/plain": [
       "1662425701"
      ]
     },
     "execution_count": 124,
     "metadata": {},
     "output_type": "execute_result"
    }
   ],
   "source": [
    "# Retrieve the datetime of the weather data for Boston\n",
    "boston_data[\"dt\"]\n"
   ]
  },
  {
   "cell_type": "code",
   "execution_count": 125,
   "id": "68b62d40",
   "metadata": {},
   "outputs": [
    {
     "data": {
      "text/plain": [
       "42.3584"
      ]
     },
     "execution_count": 125,
     "metadata": {},
     "output_type": "execute_result"
    }
   ],
   "source": [
    "# Retrive the Latitude of Boston\n",
    "boston_data[\"coord\"][\"lat\"]\n"
   ]
  },
  {
   "cell_type": "code",
   "execution_count": 126,
   "id": "5ac55b42",
   "metadata": {},
   "outputs": [
    {
     "name": "stdout",
     "output_type": "stream",
     "text": [
      "42.3584 -71.0598 66.52 95 100 8.05\n"
     ]
    }
   ],
   "source": [
    "lat = boston_data[\"coord\"][\"lat\"]\n",
    "lng = boston_data[\"coord\"][\"lon\"]\n",
    "max_temp = boston_data[\"main\"][\"temp_max\"]\n",
    "humidity = boston_data[\"main\"][\"humidity\"]\n",
    "clouds = boston_data[\"clouds\"][\"all\"]\n",
    "wind = boston_data[\"wind\"][\"speed\"]\n",
    "print(lat, lng, max_temp, humidity, clouds, wind)\n"
   ]
  },
  {
   "cell_type": "markdown",
   "id": "6eb32726",
   "metadata": {},
   "source": [
    "### Convert the Date Timestamp\n"
   ]
  },
  {
   "cell_type": "code",
   "execution_count": 127,
   "id": "e4c48703",
   "metadata": {},
   "outputs": [
    {
     "data": {
      "text/plain": [
       "'2022-09-06 00:55:01'"
      ]
     },
     "execution_count": 127,
     "metadata": {},
     "output_type": "execute_result"
    }
   ],
   "source": [
    "# Import the datetime module from the datetime library.\n",
    "from datetime import datetime\n",
    "# Get the date from the JSON file.\n",
    "date = boston_data[\"dt\"]\n",
    "# Convert the UTC date to a date format with year, month, day, hours, minutes, and seconds.\n",
    "datetime.utcfromtimestamp(date).strftime(\"%Y-%m-%d %H:%M:%S\")\n"
   ]
  },
  {
   "cell_type": "markdown",
   "id": "98a760e6",
   "metadata": {},
   "source": [
    "## 6.2.6 Get the City Weather Data\n",
    "\n",
    "### Import Dependencies, and Initialize an Empty List and Counters"
   ]
  },
  {
   "cell_type": "code",
   "execution_count": 128,
   "id": "dd0b8561",
   "metadata": {},
   "outputs": [],
   "source": [
    "# Module work from here is in the WeatherPy.ipynb file"
   ]
  },
  {
   "cell_type": "code",
   "execution_count": null,
   "id": "da0e65ce",
   "metadata": {},
   "outputs": [],
   "source": []
  }
 ],
 "metadata": {
  "kernelspec": {
   "display_name": "PythonData",
   "language": "python",
   "name": "pythondata"
  },
  "language_info": {
   "codemirror_mode": {
    "name": "ipython",
    "version": 3
   },
   "file_extension": ".py",
   "mimetype": "text/x-python",
   "name": "python",
   "nbconvert_exporter": "python",
   "pygments_lexer": "ipython3",
   "version": "3.7.13"
  }
 },
 "nbformat": 4,
 "nbformat_minor": 5
}
