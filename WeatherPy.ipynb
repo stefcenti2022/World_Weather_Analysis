{
 "cells": [
  {
   "cell_type": "markdown",
   "id": "1cd4db5c",
   "metadata": {},
   "source": [
    "## 6.1.4 Generate Random Latitudes and Longitudes"
   ]
  },
  {
   "cell_type": "markdown",
   "id": "28484064",
   "metadata": {},
   "source": [
    "## Main Notebook for Testing. For other tests see:\n",
    "- random.ipynb: for use of random function from Mod 6.1.4\n",
    "\n",
    "- API_Practice.ipynb for these tests:\n",
    "    - zip/unxip in Mod\n",
    "    "
   ]
  },
  {
   "cell_type": "code",
   "execution_count": 1,
   "id": "13e13614",
   "metadata": {},
   "outputs": [],
   "source": [
    "# Import the dependencies.\n",
    "import pandas as pd\n",
    "import matplotlib.pyplot as plt\n",
    "import numpy as np\n"
   ]
  },
  {
   "cell_type": "code",
   "execution_count": 2,
   "id": "4e1b6b43",
   "metadata": {},
   "outputs": [
    {
     "data": {
      "text/plain": [
       "<zip at 0x7feb3f642c80>"
      ]
     },
     "execution_count": 2,
     "metadata": {},
     "output_type": "execute_result"
    }
   ],
   "source": [
    "# Create a set of random latitude and longitude combinations.\n",
    "lats = np.random.uniform(low=-90.000, high=90.000, size=1500)\n",
    "lngs = np.random.uniform(low=-180.000, high=180.000, size=1500)\n",
    "lat_lngs = zip(lats, lngs)\n",
    "lat_lngs\n"
   ]
  },
  {
   "cell_type": "code",
   "execution_count": 3,
   "id": "f9300bfd",
   "metadata": {},
   "outputs": [],
   "source": [
    "# Add the latitudes and longitudes to a list.\n",
    "coordinates = list(lat_lngs)\n"
   ]
  },
  {
   "cell_type": "markdown",
   "id": "070cbd58",
   "metadata": {},
   "source": [
    "## 6.1.5 Generate Random World Cities\n"
   ]
  },
  {
   "cell_type": "code",
   "execution_count": 4,
   "id": "f8b0f18b",
   "metadata": {},
   "outputs": [],
   "source": [
    "from citipy import citipy\n"
   ]
  },
  {
   "cell_type": "code",
   "execution_count": 5,
   "id": "189a8158",
   "metadata": {},
   "outputs": [
    {
     "data": {
      "text/plain": [
       "636"
      ]
     },
     "execution_count": 5,
     "metadata": {},
     "output_type": "execute_result"
    }
   ],
   "source": [
    "# Create a list for holding the cities.\n",
    "cities = []\n",
    "# Identify the nearest city for each latitude and longitude combination.\n",
    "for coordinate in coordinates:\n",
    "    city = citipy.nearest_city(coordinate[0], coordinate[1]).city_name\n",
    "\n",
    "    # If the city is unique, then we will add it to the cities list.\n",
    "    if city not in cities:\n",
    "        cities.append(city)\n",
    "# Print the city count to confirm sufficient count.\n",
    "len(cities)\n"
   ]
  },
  {
   "cell_type": "code",
   "execution_count": null,
   "id": "a0dd2698",
   "metadata": {},
   "outputs": [],
   "source": []
  }
 ],
 "metadata": {
  "kernelspec": {
   "display_name": "PythonData",
   "language": "python",
   "name": "pythondata"
  },
  "language_info": {
   "codemirror_mode": {
    "name": "ipython",
    "version": 3
   },
   "file_extension": ".py",
   "mimetype": "text/x-python",
   "name": "python",
   "nbconvert_exporter": "python",
   "pygments_lexer": "ipython3",
   "version": "3.7.13"
  }
 },
 "nbformat": 4,
 "nbformat_minor": 5
}
